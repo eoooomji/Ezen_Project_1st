{
 "cells": [
  {
   "cell_type": "code",
   "execution_count": 1,
   "id": "d5e9cc94",
   "metadata": {},
   "outputs": [],
   "source": [
    "import pandas as pd\n",
    "import cx_Oracle\n",
    "import csv"
   ]
  },
  {
   "cell_type": "code",
   "execution_count": 2,
   "id": "1e911ec3",
   "metadata": {},
   "outputs": [],
   "source": [
    "# oracle 연동\n",
    "connect = cx_Oracle.connect(\"hr\", \"a1234\", \"127.0.0.1:1521/xe\", encoding=\"UTF-8\")\n",
    "cursor = connect.cursor()"
   ]
  },
  {
   "cell_type": "code",
   "execution_count": 43,
   "id": "546639b1",
   "metadata": {},
   "outputs": [],
   "source": [
    "def saveTagsDBTable():\n",
    "    file = open('./topic_name.txt', 'r', encoding='utf-8')\n",
    "    lines = file.readlines()\n",
    "    \n",
    "    for line in lines:\n",
    "        line = line.strip().split(':')\n",
    "        tag_num = line[0]\n",
    "        tag_name = line[1]\n",
    "    \n",
    "        sql = '''\n",
    "        insert into tags (tag_num, tag_name)\n",
    "        values (:tag_num, :tag_name)\n",
    "        '''\n",
    "        \n",
    "        cursor.execute(sql, (tag_num, tag_name))\n",
    "        connect.commit()"
   ]
  },
  {
   "cell_type": "code",
   "execution_count": 44,
   "id": "08c57d29",
   "metadata": {},
   "outputs": [],
   "source": [
    "if __name__ == '__main__':\n",
    "    saveTagsDBTable()"
   ]
  },
  {
   "cell_type": "code",
   "execution_count": 47,
   "id": "1879d602",
   "metadata": {},
   "outputs": [],
   "source": [
    "def saveTagAreaDBTable(row):\n",
    "    tags_tag_num = row[1]\n",
    "    areas_area_num = row[3]\n",
    "    \n",
    "    sql = '''\n",
    "    insert into tags_areas (areas_area_num, tags_tag_num)\n",
    "    values (:areas_area_num, :tags_tag_num)\n",
    "    '''\n",
    "    \n",
    "    cursor.execute(sql, (areas_area_num, tags_tag_num))\n",
    "    connect.commit()"
   ]
  },
  {
   "cell_type": "code",
   "execution_count": 48,
   "id": "1112f5cf",
   "metadata": {},
   "outputs": [],
   "source": [
    "if __name__ == '__main__':\n",
    "    file = open('./doc_topic_result.csv', 'r', encoding='utf-8')\n",
    "    datas = csv.reader(file, delimiter=',')\n",
    "    next(datas, None)\n",
    "    for row in datas:\n",
    "        #print(row)\n",
    "        saveTagAreaDBTable(row)"
   ]
  },
  {
   "cell_type": "code",
   "execution_count": null,
   "id": "2d47e29c",
   "metadata": {},
   "outputs": [],
   "source": []
  }
 ],
 "metadata": {
  "kernelspec": {
   "display_name": "Python 3 (ipykernel)",
   "language": "python",
   "name": "python3"
  },
  "language_info": {
   "codemirror_mode": {
    "name": "ipython",
    "version": 3
   },
   "file_extension": ".py",
   "mimetype": "text/x-python",
   "name": "python",
   "nbconvert_exporter": "python",
   "pygments_lexer": "ipython3",
   "version": "3.9.13"
  }
 },
 "nbformat": 4,
 "nbformat_minor": 5
}
